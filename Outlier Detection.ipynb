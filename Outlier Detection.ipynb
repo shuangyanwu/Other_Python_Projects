{
 "cells": [
  {
   "cell_type": "markdown",
   "id": "9e815459",
   "metadata": {},
   "source": [
    "# Outlier Detection\n",
    "## Three methods (Gaussian Distribution, Local Outlier Factor, and Isolation Trees) are used to detect outliers in one of the two datasets."
   ]
  },
  {
   "cell_type": "code",
   "execution_count": 50,
   "id": "893db5cc",
   "metadata": {},
   "outputs": [],
   "source": [
    "import matplotlib.pyplot as plt\n",
    "import numpy as np\n",
    "from collections import Counter\n",
    "from sklearn.neighbors import NearestNeighbors\n",
    "from IPython.core.interactiveshell import InteractiveShell\n",
    "InteractiveShell.ast_node_interactivity = \"all\"\n",
    "import pandas as pd"
   ]
  },
  {
   "cell_type": "markdown",
   "id": "f1b81782",
   "metadata": {},
   "source": [
    "## Data 1"
   ]
  },
  {
   "cell_type": "code",
   "execution_count": 52,
   "id": "81422c7d",
   "metadata": {},
   "outputs": [
    {
     "data": {
      "text/html": [
       "<div>\n",
       "<style scoped>\n",
       "    .dataframe tbody tr th:only-of-type {\n",
       "        vertical-align: middle;\n",
       "    }\n",
       "\n",
       "    .dataframe tbody tr th {\n",
       "        vertical-align: top;\n",
       "    }\n",
       "\n",
       "    .dataframe thead th {\n",
       "        text-align: right;\n",
       "    }\n",
       "</style>\n",
       "<table border=\"1\" class=\"dataframe\">\n",
       "  <thead>\n",
       "    <tr style=\"text-align: right;\">\n",
       "      <th></th>\n",
       "      <th>0</th>\n",
       "      <th>1</th>\n",
       "      <th>2</th>\n",
       "      <th>3</th>\n",
       "      <th>4</th>\n",
       "      <th>5</th>\n",
       "      <th>6</th>\n",
       "      <th>7</th>\n",
       "      <th>8</th>\n",
       "      <th>9</th>\n",
       "      <th>...</th>\n",
       "      <th>590</th>\n",
       "      <th>591</th>\n",
       "      <th>592</th>\n",
       "      <th>593</th>\n",
       "      <th>594</th>\n",
       "      <th>595</th>\n",
       "      <th>596</th>\n",
       "      <th>597</th>\n",
       "      <th>598</th>\n",
       "      <th>599</th>\n",
       "    </tr>\n",
       "  </thead>\n",
       "  <tbody>\n",
       "    <tr>\n",
       "      <th>0</th>\n",
       "      <td>5.000719</td>\n",
       "      <td>5.274754</td>\n",
       "      <td>5.249499</td>\n",
       "      <td>4.614735</td>\n",
       "      <td>5.413515</td>\n",
       "      <td>3.980793</td>\n",
       "      <td>6.001460</td>\n",
       "      <td>3.598920</td>\n",
       "      <td>5.233456</td>\n",
       "      <td>4.217037</td>\n",
       "      <td>...</td>\n",
       "      <td>4.288981</td>\n",
       "      <td>4.319531</td>\n",
       "      <td>3.189518</td>\n",
       "      <td>3.980064</td>\n",
       "      <td>4.177364</td>\n",
       "      <td>5.776013</td>\n",
       "      <td>4.926472</td>\n",
       "      <td>-2.0</td>\n",
       "      <td>-2.0</td>\n",
       "      <td>10.0</td>\n",
       "    </tr>\n",
       "    <tr>\n",
       "      <th>1</th>\n",
       "      <td>0.892561</td>\n",
       "      <td>0.043747</td>\n",
       "      <td>-0.178435</td>\n",
       "      <td>-0.207742</td>\n",
       "      <td>1.029972</td>\n",
       "      <td>-0.035645</td>\n",
       "      <td>1.303102</td>\n",
       "      <td>0.493643</td>\n",
       "      <td>1.735314</td>\n",
       "      <td>2.761369</td>\n",
       "      <td>...</td>\n",
       "      <td>1.442224</td>\n",
       "      <td>0.821059</td>\n",
       "      <td>1.173238</td>\n",
       "      <td>1.838347</td>\n",
       "      <td>1.057674</td>\n",
       "      <td>2.890069</td>\n",
       "      <td>1.180025</td>\n",
       "      <td>2.0</td>\n",
       "      <td>-4.0</td>\n",
       "      <td>7.0</td>\n",
       "    </tr>\n",
       "  </tbody>\n",
       "</table>\n",
       "<p>2 rows × 600 columns</p>\n",
       "</div>"
      ],
      "text/plain": [
       "        0         1         2         3         4         5         6    \\\n",
       "0  5.000719  5.274754  5.249499  4.614735  5.413515  3.980793  6.001460   \n",
       "1  0.892561  0.043747 -0.178435 -0.207742  1.029972 -0.035645  1.303102   \n",
       "\n",
       "        7         8         9    ...       590       591       592       593  \\\n",
       "0  3.598920  5.233456  4.217037  ...  4.288981  4.319531  3.189518  3.980064   \n",
       "1  0.493643  1.735314  2.761369  ...  1.442224  0.821059  1.173238  1.838347   \n",
       "\n",
       "        594       595       596  597  598   599  \n",
       "0  4.177364  5.776013  4.926472 -2.0 -2.0  10.0  \n",
       "1  1.057674  2.890069  1.180025  2.0 -4.0   7.0  \n",
       "\n",
       "[2 rows x 600 columns]"
      ]
     },
     "execution_count": 52,
     "metadata": {},
     "output_type": "execute_result"
    }
   ],
   "source": [
    "with open('/Users/wushuangyan/Projects/data_1.npy', 'rb') as f: \n",
    "    data1 = np.load(f)\n",
    "\n",
    "pd.DataFrame(data1)"
   ]
  },
  {
   "cell_type": "markdown",
   "id": "5ca6863a",
   "metadata": {},
   "source": [
    "## Data 2"
   ]
  },
  {
   "cell_type": "code",
   "execution_count": 57,
   "id": "e8b5bfbc",
   "metadata": {},
   "outputs": [
    {
     "data": {
      "text/html": [
       "<div>\n",
       "<style scoped>\n",
       "    .dataframe tbody tr th:only-of-type {\n",
       "        vertical-align: middle;\n",
       "    }\n",
       "\n",
       "    .dataframe tbody tr th {\n",
       "        vertical-align: top;\n",
       "    }\n",
       "\n",
       "    .dataframe thead th {\n",
       "        text-align: right;\n",
       "    }\n",
       "</style>\n",
       "<table border=\"1\" class=\"dataframe\">\n",
       "  <thead>\n",
       "    <tr style=\"text-align: right;\">\n",
       "      <th></th>\n",
       "      <th>0</th>\n",
       "      <th>1</th>\n",
       "    </tr>\n",
       "  </thead>\n",
       "  <tbody>\n",
       "    <tr>\n",
       "      <th>0</th>\n",
       "      <td>-2.000000</td>\n",
       "      <td>-3.000000</td>\n",
       "    </tr>\n",
       "    <tr>\n",
       "      <th>1</th>\n",
       "      <td>-1.000000</td>\n",
       "      <td>-2.000000</td>\n",
       "    </tr>\n",
       "    <tr>\n",
       "      <th>2</th>\n",
       "      <td>1.000000</td>\n",
       "      <td>2.000000</td>\n",
       "    </tr>\n",
       "    <tr>\n",
       "      <th>3</th>\n",
       "      <td>2.000000</td>\n",
       "      <td>1.000000</td>\n",
       "    </tr>\n",
       "    <tr>\n",
       "      <th>4</th>\n",
       "      <td>1.878490</td>\n",
       "      <td>1.974773</td>\n",
       "    </tr>\n",
       "    <tr>\n",
       "      <th>...</th>\n",
       "      <td>...</td>\n",
       "      <td>...</td>\n",
       "    </tr>\n",
       "    <tr>\n",
       "      <th>195</th>\n",
       "      <td>-1.824793</td>\n",
       "      <td>-1.840977</td>\n",
       "    </tr>\n",
       "    <tr>\n",
       "      <th>196</th>\n",
       "      <td>-2.078311</td>\n",
       "      <td>-2.225230</td>\n",
       "    </tr>\n",
       "    <tr>\n",
       "      <th>197</th>\n",
       "      <td>-1.647797</td>\n",
       "      <td>-1.799888</td>\n",
       "    </tr>\n",
       "    <tr>\n",
       "      <th>198</th>\n",
       "      <td>-2.423989</td>\n",
       "      <td>-1.618368</td>\n",
       "    </tr>\n",
       "    <tr>\n",
       "      <th>199</th>\n",
       "      <td>-2.210496</td>\n",
       "      <td>-1.983735</td>\n",
       "    </tr>\n",
       "  </tbody>\n",
       "</table>\n",
       "<p>200 rows × 2 columns</p>\n",
       "</div>"
      ],
      "text/plain": [
       "            0         1\n",
       "0   -2.000000 -3.000000\n",
       "1   -1.000000 -2.000000\n",
       "2    1.000000  2.000000\n",
       "3    2.000000  1.000000\n",
       "4    1.878490  1.974773\n",
       "..        ...       ...\n",
       "195 -1.824793 -1.840977\n",
       "196 -2.078311 -2.225230\n",
       "197 -1.647797 -1.799888\n",
       "198 -2.423989 -1.618368\n",
       "199 -2.210496 -1.983735\n",
       "\n",
       "[200 rows x 2 columns]"
      ]
     },
     "execution_count": 57,
     "metadata": {},
     "output_type": "execute_result"
    }
   ],
   "source": [
    "with open('/Users/wushuangyan/Desktop/STAT classes/Linear models/data_2.npy', 'rb') as f:\n",
    "    data2 = np.load(f)\n",
    "    \n",
    "pd.DataFrame(data2)"
   ]
  },
  {
   "cell_type": "markdown",
   "id": "60c2094c",
   "metadata": {},
   "source": [
    "## Data 1 - Statistical Method - Gaussian Distribution"
   ]
  },
  {
   "cell_type": "code",
   "execution_count": 56,
   "id": "b2db34a9",
   "metadata": {},
   "outputs": [
    {
     "name": "stdout",
     "output_type": "stream",
     "text": [
      "Data Dimension:\n"
     ]
    },
    {
     "data": {
      "text/plain": [
       "(2, 600)"
      ]
     },
     "execution_count": 56,
     "metadata": {},
     "output_type": "execute_result"
    },
    {
     "name": "stdout",
     "output_type": "stream",
     "text": [
      "Sample index and probability (p) in an increasing p order: \n"
     ]
    },
    {
     "data": {
      "text/plain": [
       "array([[5.97000000e+002, 1.21379850e-251],\n",
       "       [5.98000000e+002, 2.92124212e-249],\n",
       "       [5.99000000e+002, 1.88817113e-246],\n",
       "       ...,\n",
       "       [5.43000000e+002, 2.38837701e-240],\n",
       "       [5.19000000e+002, 2.39621755e-240],\n",
       "       [1.13000000e+002, 2.39805777e-240]])"
      ]
     },
     "execution_count": 56,
     "metadata": {},
     "output_type": "execute_result"
    },
    {
     "name": "stdout",
     "output_type": "stream",
     "text": [
      "The indexes of the 3 samples with the lowest p:\n"
     ]
    },
    {
     "data": {
      "text/plain": [
       "array([597, 598, 599])"
      ]
     },
     "execution_count": 56,
     "metadata": {},
     "output_type": "execute_result"
    },
    {
     "name": "stdout",
     "output_type": "stream",
     "text": [
      "X of the 3 samples with low p:\n"
     ]
    },
    {
     "data": {
      "text/plain": [
       "array([[-2.,  2.],\n",
       "       [-2., -4.],\n",
       "       [10.,  7.]])"
      ]
     },
     "execution_count": 56,
     "metadata": {},
     "output_type": "execute_result"
    }
   ],
   "source": [
    "with open('/Users/wushuangyan/Desktop/STAT classes/Data Science/HW3/data_1.npy', 'rb') as f: \n",
    "    X = np.load(f)\n",
    "\n",
    "print(\"Data Dimension:\")\n",
    "X.shape\n",
    "\n",
    "X = X.T\n",
    "x_mean = X.mean(axis = 0)\n",
    "x_cov = np.cov(X.T, bias = True)\n",
    "# k: X dimension\n",
    "k = X.shape[0] \n",
    "\n",
    "p = np.zeros((X.shape[0], 2), dtype = float)\n",
    "\n",
    "for i in np.arange(X.shape[0]):\n",
    "    sample = X[i,:]\n",
    "    p[i,:] += [i, ((2 * np.pi) ** (-(k/2))) * ((np.linalg.det(x_cov)) ** (-(1/2))) *\n",
    "               (np.exp((-1/2) * ((sample - x_mean).T) @ (np.linalg.inv(x_cov)) @ (sample - x_mean)))]\n",
    "    \n",
    "p_sort = p[p[:, 1].argsort()]\n",
    "print(\"Sample index and probability (p) in an increasing p order: \")\n",
    "p_sort\n",
    "\n",
    "\n",
    "ind = p_sort[0:3,0].astype(int)\n",
    "print (\"The indexes of the 3 samples with the lowest p:\")\n",
    "ind\n",
    "\n",
    "print (\"X of the 3 samples with low p:\")\n",
    "X[ind,:] "
   ]
  },
  {
   "cell_type": "markdown",
   "id": "38a5af30",
   "metadata": {},
   "source": [
    "## Data 1 - Local Outlier Factor (LOF)"
   ]
  },
  {
   "cell_type": "code",
   "execution_count": 61,
   "id": "71b69ee2",
   "metadata": {},
   "outputs": [
    {
     "name": "stdout",
     "output_type": "stream",
     "text": [
      "Outliers: [-2.  2.]\n",
      "Outliers: [-2. -4.]\n",
      "Outliers: [10.  7.]\n"
     ]
    }
   ],
   "source": [
    "class LocalOutlierFactor(object):\n",
    "    def __init__(self, MinPts, data):\n",
    "        self.MinPts = MinPts \n",
    "        self.data = data\n",
    "        self.NumPoint = data.shape[0] \n",
    "\n",
    "        # compute k-distance and build k-distance neighborhood\n",
    "        self.nbrs = NearestNeighbors(n_neighbors=self.MinPts)\n",
    "        self.nbrs.fit(data)\n",
    "        [self.distNbs, self.indexNbs] = self.nbrs.kneighbors(data)\n",
    "        self.kdist = np.amax(self.distNbs, axis=1)\n",
    "\n",
    "        # initialize some results\n",
    "        self.reachdist = self.distNbs\n",
    "        self.lrd_data = np.zeros(self.NumPoint)\n",
    "        self.lof_data = np.zeros(self.NumPoint)\n",
    "\n",
    "    def ReachDist(self):\n",
    "        for p in range(self.indexNbs.shape[0]):\n",
    "            for i_o in range(self.indexNbs.shape[1]):\n",
    "                o = self.indexNbs[p, i_o]\n",
    "                \n",
    "        # compute reachability distance of an object p w.r.t. object o, stored in self.reachdist\n",
    "                self.reachdist[p, i_o] = np.maximum(self.kdist[o], self.distNbs[p, i_o])\n",
    "        return self.reachdist    \n",
    "                     \n",
    "    def Lrd(self):\n",
    "\n",
    "        # compute local reachability density for each data point, stored in self.lrd_data\n",
    "        for p in range(self.indexNbs.shape[0]):\n",
    "            self.lrd_data[p] = 1/((np.sum(self.reachdist[p,1:]))/(self.MinPts-1))\n",
    "        return self.lrd_data     \n",
    "\n",
    "    def LofScore(self):\n",
    "        for p in range(self.indexNbs.shape[0]):\n",
    "\n",
    "        # compute the LOF score for each data point, stored in self.lof_data\n",
    "            self.lof_data[p] = (np.sum(self.lrd_data[self.indexNbs[p,1:]]))/(self.lrd_data[p])/(self.MinPts-1)\n",
    "        return self.lof_data  \n",
    "\n",
    "    def LofAlgorithm(self):\n",
    "        self.ReachDist()\n",
    "        self.Lrd()\n",
    "        self.LofScore()\n",
    "\n",
    "\n",
    "def main():\n",
    "    # Read data\n",
    "    with open('/Users/wushuangyan/Desktop/STAT classes/Data Science/HW3/data_1.npy', 'rb') as f:\n",
    "        X = np.load(f).T\n",
    "\n",
    "    # Set MinPts\n",
    "    num_inst = X.shape[0]\n",
    "    MinPtsRatio = 0.1\n",
    "    MinPts = int(MinPtsRatio * num_inst)\n",
    "\n",
    "    # Run LOF\n",
    "    lof = LocalOutlierFactor(MinPts, X)\n",
    "    lof.LofAlgorithm()\n",
    "\n",
    "    # Show Results\n",
    "    lof_scores = lof.lof_data\n",
    "    IDs = lof_scores.argsort()[::-1][:3]\n",
    "    for oid in IDs:\n",
    "        print(\"Outliers:\", X[oid])\n",
    "\n",
    "\n",
    "if __name__ == \"__main__\":\n",
    "    main()"
   ]
  },
  {
   "cell_type": "markdown",
   "id": "08e13cbf",
   "metadata": {},
   "source": [
    "## Data 2 - Isolation Trees"
   ]
  },
  {
   "cell_type": "code",
   "execution_count": 63,
   "id": "c8823049",
   "metadata": {},
   "outputs": [
    {
     "name": "stdout",
     "output_type": "stream",
     "text": [
      "Outliers: [-2. -3.]\n",
      "Outliers: [-1. -2.]\n",
      "Outliers: [1. 2.]\n",
      "Outliers: [2. 1.]\n"
     ]
    },
    {
     "data": {
      "text/plain": [
       "<matplotlib.collections.PathCollection at 0x7fc2ac6a76a0>"
      ]
     },
     "execution_count": 63,
     "metadata": {},
     "output_type": "execute_result"
    },
    {
     "data": {
      "text/plain": [
       "<matplotlib.collections.PathCollection at 0x7fc2ac6a7550>"
      ]
     },
     "execution_count": 63,
     "metadata": {},
     "output_type": "execute_result"
    },
    {
     "data": {
      "image/png": "[encoded data removed]",
      "text/plain": [
       "<Figure size 432x288 with 1 Axes>"
      ]
     },
     "metadata": {
      "needs_background": "light"
     },
     "output_type": "display_data"
    }
   ],
   "source": [
    "class Node:\n",
    "    def __init__(self, val = None, right = None, left = None):\n",
    "        self.val = val  \n",
    "        \n",
    "        # store the IDs of data points, only for leaf nodes\n",
    "        self.right = right\n",
    "        self.left = left\n",
    "\n",
    "class iTree:\n",
    "    def __init__(self):\n",
    "        self.tree = None\n",
    "        self.n_features = None\n",
    "\n",
    "    def get_split(self, data, inds):\n",
    "        \n",
    "        # randomly choose (1) which feature f to split, (2) the feature split value v\n",
    "        f = np.random.choice(np.arange(data.shape[1]), size = 1)\n",
    "        v = np.random.uniform(min(data[inds, f]), max(data[inds,f]))\n",
    "        return f, v\n",
    "\n",
    "    def split(self, data, IDs):\n",
    "        \n",
    "        # split the current set of data points\n",
    "        f, v = self.get_split(data, IDs)\n",
    "        left_ind = []\n",
    "        right_ind = []\n",
    "        for i in IDs:\n",
    "            if data[i, f] <= v:\n",
    "                left_ind.append(i)\n",
    "            else:\n",
    "                right_ind.append(i)\n",
    "        return left_ind, right_ind\n",
    "\n",
    "    def buildTree(self, data, IDs):\n",
    "        # leaf node\n",
    "        if len(IDs) < 2:\n",
    "            return Node(val = IDs)\n",
    "        else:\n",
    "            leftIDs, rightIDs = self.split(data, IDs)  \n",
    "            left = self. buildTree(data, leftIDs)\n",
    "            right = self. buildTree(data, rightIDs)\n",
    "            return Node(left = left, right = right)     \n",
    "\n",
    "        # build the non-leaf node, which recursively makes the tree deeper\n",
    "        \n",
    "    def fit(self, data):\n",
    "        self.n_features = data.shape[1]\n",
    "        IDs = np.arange(data.shape[0])\n",
    "        self.tree = self.buildTree(data, IDs)\n",
    "        return\n",
    "\n",
    "    def traverse(self):\n",
    "        \n",
    "        # traver the tree, compute the path length\n",
    "        path_len = Counter()\n",
    "        i = -1\n",
    "\n",
    "        def helper(currentNode):\n",
    "            nonlocal i\n",
    "            i += 1\n",
    "            if currentNode.val is not None:\n",
    "                for ind in currentNode.val:\n",
    "                    path_len[ind] = i\n",
    "                return\n",
    "            for child in [currentNode.left, currentNode.right]:\n",
    "                helper(child)\n",
    "                i -= 1\n",
    "            return\n",
    "\n",
    "        helper(self.tree)\n",
    "        return path_len\n",
    "\n",
    "\n",
    "class iForest:\n",
    "    def __init__(self, n_tree, ratio_outlier):\n",
    "        self.n_tree = n_tree\n",
    "        self.ratio_outlier = ratio_outlier  # ratio of outliers in the dataset\n",
    "        self.outlierScores = Counter()\n",
    "\n",
    "    def fit_predict(self, data):\n",
    "        for _ in range(self.n_tree):\n",
    "            itree = iTree()\n",
    "            itree.fit(data)                 # build each iTree\n",
    "            path_len = itree.traverse()     # compute path length\n",
    "            self.outlierScores = self.outlierScores + path_len\n",
    "\n",
    "        n_sample = data.shape[0]\n",
    "\n",
    "        # compute the normalization factor c_phi\n",
    "        c_phi = 2 * np.log(n_sample - 1) - (2*(n_sample - 1)/n_sample)\n",
    "\n",
    "        for key, val in self.outlierScores.items():\n",
    "            self.outlierScores[key] = 2 ** -(val / self.n_tree / c_phi)\n",
    "        q = np.quantile(list(self.outlierScores.values()), 1 - self.ratio_outlier)\n",
    "        outliers = [key for key, val in self.outlierScores.items() if val > q]\n",
    "        return outliers\n",
    "\n",
    "\n",
    "if __name__ == '__main__':\n",
    "    with open('/Users/wushuangyan/Desktop/STAT classes/Linear models/data_2.npy', 'rb') as f:\n",
    "        X = np.load(f)\n",
    "\n",
    "    IF = iForest(100, 0.02)\n",
    "    outierIDs = IF.fit_predict(X)\n",
    "    outliers = X[outierIDs]\n",
    "    for oid in outierIDs:\n",
    "        print(\"Outliers:\", X[oid])\n",
    "\n",
    "    plt.scatter(X[:, 0], X[:, 1], color = 'b')\n",
    "    plt.scatter(outliers[:, 0], outliers[:, 1], color = 'r')\n",
    "    plt.show()"
   ]
  }
 ],
 "metadata": {
  "kernelspec": {
   "display_name": "Python 3 (ipykernel)",
   "language": "python",
   "name": "python3"
  },
  "language_info": {
   "codemirror_mode": {
    "name": "ipython",
    "version": 3
   },
   "file_extension": ".py",
   "mimetype": "text/x-python",
   "name": "python",
   "nbconvert_exporter": "python",
   "pygments_lexer": "ipython3",
   "version": "3.9.12"
  }
 },
 "nbformat": 4,
 "nbformat_minor": 5
}
